{
 "metadata": {
  "language_info": {
   "codemirror_mode": {
    "name": "ipython",
    "version": 3
   },
   "file_extension": ".py",
   "mimetype": "text/x-python",
   "name": "python",
   "nbconvert_exporter": "python",
   "pygments_lexer": "ipython3",
   "version": "3.8"
  },
  "orig_nbformat": 2,
  "kernelspec": {
   "name": "pythonjvsc74a57bd0febda834ba9f9d9b3ed016c26ee87c1dbe4fead8b0526b8fe8b1b56a9d7cdbd3",
   "display_name": "Python 3.8.8 64-bit ('base': conda)"
  },
  "metadata": {
   "interpreter": {
    "hash": "febda834ba9f9d9b3ed016c26ee87c1dbe4fead8b0526b8fe8b1b56a9d7cdbd3"
   }
  }
 },
 "nbformat": 4,
 "nbformat_minor": 2,
 "cells": [
  {
   "cell_type": "code",
   "execution_count": 1,
   "metadata": {},
   "outputs": [],
   "source": [
    "try:\n",
    "    from faker import Faker \n",
    "except:\n",
    "    !pip install faker\n",
    "    from faker import Faker"
   ]
  },
  {
   "cell_type": "code",
   "execution_count": 2,
   "metadata": {},
   "outputs": [],
   "source": [
    "from faker import Faker\n",
    "import csv\n",
    "output=open('data.csv', 'w')\n",
    "fake=Faker()\n",
    "header=['name', 'age', 'street', 'city', 'state', 'zip',\n",
    "        'lng', 'lat']\n",
    "mywriter=csv.writer(output)\n",
    "mywriter.writerow(header)\n",
    "for r in range(1000):\n",
    "    row=[fake.name(), fake.random_int(min=18, max=80, step=1), fake.street_address(), fake.city(),\n",
    "    fake.state(), fake.zipcode(), fake.longitude(),\n",
    "    fake.latitude()]\n",
    "    mywriter.writerow(row)\n",
    "\n",
    "output.close()\n"
   ]
  },
  {
   "cell_type": "code",
   "execution_count": null,
   "metadata": {},
   "outputs": [],
   "source": []
  }
 ]
}