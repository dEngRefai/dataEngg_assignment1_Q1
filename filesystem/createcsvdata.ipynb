{
 "cells": [
  {
   "cell_type": "code",
   "execution_count": 1,
   "metadata": {},
   "outputs": [
    {
     "name": "stdout",
     "output_type": "stream",
     "text": [
      "Collecting faker\n",
      "  Downloading Faker-8.1.3-py3-none-any.whl (1.2 MB)\n",
      "\u001b[K     |████████████████████████████████| 1.2 MB 364 kB/s eta 0:00:01\n",
      "\u001b[?25hRequirement already satisfied: python-dateutil>=2.4 in /opt/conda/lib/python3.8/site-packages (from faker) (2.8.1)\n",
      "Collecting text-unidecode==1.3\n",
      "  Downloading text_unidecode-1.3-py2.py3-none-any.whl (78 kB)\n",
      "\u001b[K     |████████████████████████████████| 78 kB 191 kB/s eta 0:00:01\n",
      "\u001b[?25hRequirement already satisfied: six>=1.5 in /opt/conda/lib/python3.8/site-packages (from python-dateutil>=2.4->faker) (1.15.0)\n",
      "Installing collected packages: text-unidecode, faker\n",
      "Successfully installed faker-8.1.3 text-unidecode-1.3\n"
     ]
    }
   ],
   "source": [
    "try:\n",
    "    from faker import Faker \n",
    "except:\n",
    "    !pip install faker\n",
    "    from faker import Faker"
   ]
  },
  {
   "cell_type": "code",
   "execution_count": 2,
   "metadata": {},
   "outputs": [],
   "source": [
    "from faker import Faker\n",
    "import csv\n",
    "output=open('data.csv', 'w')\n",
    "fake=Faker()\n",
    "header=['name', 'age', 'street', 'city', 'state', 'zip',\n",
    "        'lng', 'lat']\n",
    "mywriter=csv.writer(output)\n",
    "mywriter.writerow(header)\n",
    "for r in range(1000):\n",
    "    row=[fake.name(), fake.random_int(min=18, max=80, step=1), fake.street_address(), fake.city(),\n",
    "    fake.state(), fake.zipcode(), fake.longitude(),\n",
    "    fake.latitude()]\n",
    "    mywriter.writerow(row)\n",
    "\n",
    "output.close()\n"
   ]
  },
  {
   "cell_type": "code",
   "execution_count": null,
   "metadata": {},
   "outputs": [],
   "source": []
  }
 ],
 "metadata": {
  "kernelspec": {
   "display_name": "Python 3",
   "language": "python",
   "name": "python3"
  },
  "language_info": {
   "codemirror_mode": {
    "name": "ipython",
    "version": 3
   },
   "file_extension": ".py",
   "mimetype": "text/x-python",
   "name": "python",
   "nbconvert_exporter": "python",
   "pygments_lexer": "ipython3",
   "version": "3.8.8"
  },
  "metadata": {
   "interpreter": {
    "hash": "febda834ba9f9d9b3ed016c26ee87c1dbe4fead8b0526b8fe8b1b56a9d7cdbd3"
   }
  }
 },
 "nbformat": 4,
 "nbformat_minor": 2
}